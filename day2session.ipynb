{
  "nbformat": 4,
  "nbformat_minor": 0,
  "metadata": {
    "colab": {
      "name": "Untitled0.ipynb",
      "provenance": []
    },
    "kernelspec": {
      "name": "python3",
      "display_name": "Python 3"
    },
    "language_info": {
      "name": "python"
    }
  },
  "cells": [
    {
      "cell_type": "code",
      "metadata": {
        "colab": {
          "base_uri": "https://localhost:8080/"
        },
        "id": "hhVq23grPVJ3",
        "outputId": "aeed87f5-965c-4dfa-826d-f6d11fb6956e"
      },
      "source": [
        "x = 1\n",
        "type(x)"
      ],
      "execution_count": 1,
      "outputs": [
        {
          "output_type": "execute_result",
          "data": {
            "text/plain": [
              "int"
            ]
          },
          "metadata": {
            "tags": []
          },
          "execution_count": 1
        }
      ]
    },
    {
      "cell_type": "code",
      "metadata": {
        "colab": {
          "base_uri": "https://localhost:8080/"
        },
        "id": "eZ-XAnYqPf6N",
        "outputId": "949e507a-02f5-4da4-89bc-7ecc0daae295"
      },
      "source": [
        "x = 1.0\n",
        "type(x)"
      ],
      "execution_count": 2,
      "outputs": [
        {
          "output_type": "execute_result",
          "data": {
            "text/plain": [
              "float"
            ]
          },
          "metadata": {
            "tags": []
          },
          "execution_count": 2
        }
      ]
    },
    {
      "cell_type": "code",
      "metadata": {
        "colab": {
          "base_uri": "https://localhost:8080/"
        },
        "id": "f6tDNiyuPhaQ",
        "outputId": "c3451ff3-fda2-4ed2-c8f4-a8aa1b178c32"
      },
      "source": [
        "b1 = True\n",
        "b2 = False\n",
        "\n",
        "type(b1)"
      ],
      "execution_count": 3,
      "outputs": [
        {
          "output_type": "execute_result",
          "data": {
            "text/plain": [
              "bool"
            ]
          },
          "metadata": {
            "tags": []
          },
          "execution_count": 3
        }
      ]
    },
    {
      "cell_type": "code",
      "metadata": {
        "colab": {
          "base_uri": "https://localhost:8080/"
        },
        "id": "q78rnzo6PjCD",
        "outputId": "c802a20e-002f-49e8-eda9-6b7295b1f5ae"
      },
      "source": [
        "name1 = 'anjali'\n",
        "type(name1)"
      ],
      "execution_count": 4,
      "outputs": [
        {
          "output_type": "execute_result",
          "data": {
            "text/plain": [
              "str"
            ]
          },
          "metadata": {
            "tags": []
          },
          "execution_count": 4
        }
      ]
    },
    {
      "cell_type": "code",
      "metadata": {
        "colab": {
          "base_uri": "https://localhost:8080/"
        },
        "id": "KWtmH8i8PlHO",
        "outputId": "54bcb2fa-3e66-48e8-f68c-b44134e1e59f"
      },
      "source": [
        "x = 1.0 - 2.0j\n",
        "type(x)"
      ],
      "execution_count": 5,
      "outputs": [
        {
          "output_type": "execute_result",
          "data": {
            "text/plain": [
              "complex"
            ]
          },
          "metadata": {
            "tags": []
          },
          "execution_count": 5
        }
      ]
    },
    {
      "cell_type": "code",
      "metadata": {
        "colab": {
          "base_uri": "https://localhost:8080/"
        },
        "id": "RSuy9EgoPmjp",
        "outputId": "b99fe5b6-aaab-4eb1-c734-ead23da58af2"
      },
      "source": [
        "print(x)"
      ],
      "execution_count": 6,
      "outputs": [
        {
          "output_type": "stream",
          "text": [
            "(1-2j)\n"
          ],
          "name": "stdout"
        }
      ]
    },
    {
      "cell_type": "code",
      "metadata": {
        "colab": {
          "base_uri": "https://localhost:8080/"
        },
        "id": "7K3QbMa9PnGP",
        "outputId": "bb5f4de2-f324-4107-c809-2527acbdbef2"
      },
      "source": [
        "print(x.real, x.imag)"
      ],
      "execution_count": 7,
      "outputs": [
        {
          "output_type": "stream",
          "text": [
            "1.0 -2.0\n"
          ],
          "name": "stdout"
        }
      ]
    },
    {
      "cell_type": "code",
      "metadata": {
        "colab": {
          "base_uri": "https://localhost:8080/"
        },
        "id": "HKAOpHrrPpdP",
        "outputId": "40cd5bc2-5242-44cb-8f7e-149bbf6dcbf9"
      },
      "source": [
        "tenth = 10\n",
        "two = 2\n",
        "print(tenth)\n",
        "two"
      ],
      "execution_count": 8,
      "outputs": [
        {
          "output_type": "stream",
          "text": [
            "10\n"
          ],
          "name": "stdout"
        },
        {
          "output_type": "execute_result",
          "data": {
            "text/plain": [
              "2"
            ]
          },
          "metadata": {
            "tags": []
          },
          "execution_count": 8
        }
      ]
    },
    {
      "cell_type": "code",
      "metadata": {
        "colab": {
          "base_uri": "https://localhost:8080/"
        },
        "id": "CnWq9L6YPp_s",
        "outputId": "a17c117c-83d0-4e22-cf0e-e431d45f1382"
      },
      "source": [
        "ten = 10\n",
        "ten"
      ],
      "execution_count": 9,
      "outputs": [
        {
          "output_type": "execute_result",
          "data": {
            "text/plain": [
              "10"
            ]
          },
          "metadata": {
            "tags": []
          },
          "execution_count": 9
        }
      ]
    },
    {
      "cell_type": "code",
      "metadata": {
        "colab": {
          "base_uri": "https://localhost:8080/",
          "height": 35
        },
        "id": "vX6ucaKDPrKv",
        "outputId": "b3bcf8b8-4966-471c-cd71-de3e6d0abb44"
      },
      "source": [
        "ten = 'ten'\n",
        "ten"
      ],
      "execution_count": 10,
      "outputs": [
        {
          "output_type": "execute_result",
          "data": {
            "application/vnd.google.colaboratory.intrinsic+json": {
              "type": "string"
            },
            "text/plain": [
              "'ten'"
            ]
          },
          "metadata": {
            "tags": []
          },
          "execution_count": 10
        }
      ]
    },
    {
      "cell_type": "code",
      "metadata": {
        "colab": {
          "base_uri": "https://localhost:8080/",
          "height": 35
        },
        "id": "ykkDQCM2PsSG",
        "outputId": "fa569eb0-2dc7-4281-e856-ddb4fad6a5e7"
      },
      "source": [
        "'Day ' + str(1)"
      ],
      "execution_count": 11,
      "outputs": [
        {
          "output_type": "execute_result",
          "data": {
            "application/vnd.google.colaboratory.intrinsic+json": {
              "type": "string"
            },
            "text/plain": [
              "'Day 1'"
            ]
          },
          "metadata": {
            "tags": []
          },
          "execution_count": 11
        }
      ]
    },
    {
      "cell_type": "code",
      "metadata": {
        "colab": {
          "base_uri": "https://localhost:8080/"
        },
        "id": "CXopYb5GPtwa",
        "outputId": "6cd46bae-73bb-4985-df1e-1262c1aae48d"
      },
      "source": [
        "True and True"
      ],
      "execution_count": 12,
      "outputs": [
        {
          "output_type": "execute_result",
          "data": {
            "text/plain": [
              "True"
            ]
          },
          "metadata": {
            "tags": []
          },
          "execution_count": 12
        }
      ]
    },
    {
      "cell_type": "code",
      "metadata": {
        "colab": {
          "base_uri": "https://localhost:8080/"
        },
        "id": "gyY2SX7OPu9g",
        "outputId": "d6cd272e-d345-4ac8-8355-beb9bed3e767"
      },
      "source": [
        "True or False"
      ],
      "execution_count": 13,
      "outputs": [
        {
          "output_type": "execute_result",
          "data": {
            "text/plain": [
              "True"
            ]
          },
          "metadata": {
            "tags": []
          },
          "execution_count": 13
        }
      ]
    },
    {
      "cell_type": "code",
      "metadata": {
        "colab": {
          "base_uri": "https://localhost:8080/"
        },
        "id": "bw845WdMPwGu",
        "outputId": "8e20a0d1-1ab7-46dd-8cd3-53ad8841cab8"
      },
      "source": [
        "not True"
      ],
      "execution_count": 14,
      "outputs": [
        {
          "output_type": "execute_result",
          "data": {
            "text/plain": [
              "False"
            ]
          },
          "metadata": {
            "tags": []
          },
          "execution_count": 14
        }
      ]
    },
    {
      "cell_type": "code",
      "metadata": {
        "colab": {
          "base_uri": "https://localhost:8080/"
        },
        "id": "6DefAaeYPyhm",
        "outputId": "229cc600-191f-46ed-d136-a0bcbccbea75"
      },
      "source": [
        "not False"
      ],
      "execution_count": 15,
      "outputs": [
        {
          "output_type": "execute_result",
          "data": {
            "text/plain": [
              "True"
            ]
          },
          "metadata": {
            "tags": []
          },
          "execution_count": 15
        }
      ]
    },
    {
      "cell_type": "code",
      "metadata": {
        "colab": {
          "base_uri": "https://localhost:8080/"
        },
        "id": "5q7Cs3mLP0zQ",
        "outputId": "5b278fae-18bb-4f4e-8c11-7c2aa2f66621"
      },
      "source": [
        "True is True"
      ],
      "execution_count": 16,
      "outputs": [
        {
          "output_type": "execute_result",
          "data": {
            "text/plain": [
              "True"
            ]
          },
          "metadata": {
            "tags": []
          },
          "execution_count": 16
        }
      ]
    },
    {
      "cell_type": "code",
      "metadata": {
        "colab": {
          "base_uri": "https://localhost:8080/"
        },
        "id": "uYJbPIKQP1il",
        "outputId": "061d15e2-2fcb-4be0-f283-83c7d45bc97b"
      },
      "source": [
        "True is False"
      ],
      "execution_count": 17,
      "outputs": [
        {
          "output_type": "execute_result",
          "data": {
            "text/plain": [
              "False"
            ]
          },
          "metadata": {
            "tags": []
          },
          "execution_count": 17
        }
      ]
    },
    {
      "cell_type": "code",
      "metadata": {
        "colab": {
          "base_uri": "https://localhost:8080/"
        },
        "id": "CwmM7k5rP20H",
        "outputId": "ead12e01-af13-4f31-8566-4694d3ccf47e"
      },
      "source": [
        "'a' is 'a'"
      ],
      "execution_count": 18,
      "outputs": [
        {
          "output_type": "execute_result",
          "data": {
            "text/plain": [
              "True"
            ]
          },
          "metadata": {
            "tags": []
          },
          "execution_count": 18
        }
      ]
    },
    {
      "cell_type": "code",
      "metadata": {
        "colab": {
          "base_uri": "https://localhost:8080/"
        },
        "id": "SHIKkQUFP4Dp",
        "outputId": "6bd00201-54d1-4fb7-fcd6-f720c526b94b"
      },
      "source": [
        "i = 3\n",
        "if i < 3:\n",
        "    print('less than 3')\n",
        "elif i < 5:\n",
        "    print('less than 5')\n",
        "else:\n",
        "    print('5 or more')"
      ],
      "execution_count": 19,
      "outputs": [
        {
          "output_type": "stream",
          "text": [
            "less than 5\n"
          ],
          "name": "stdout"
        }
      ]
    },
    {
      "cell_type": "code",
      "metadata": {
        "colab": {
          "base_uri": "https://localhost:8080/"
        },
        "id": "DCdMXBiAP5Yy",
        "outputId": "3eedee9f-97d4-4e89-f274-1516e8341949"
      },
      "source": [
        "l = []\n",
        "l"
      ],
      "execution_count": 20,
      "outputs": [
        {
          "output_type": "execute_result",
          "data": {
            "text/plain": [
              "[]"
            ]
          },
          "metadata": {
            "tags": []
          },
          "execution_count": 20
        }
      ]
    },
    {
      "cell_type": "code",
      "metadata": {
        "colab": {
          "base_uri": "https://localhost:8080/"
        },
        "id": "6WgsZsAmP6yM",
        "outputId": "4dfbc05a-21db-42c0-9315-71144db978aa"
      },
      "source": [
        "l = list()\n",
        "l"
      ],
      "execution_count": 21,
      "outputs": [
        {
          "output_type": "execute_result",
          "data": {
            "text/plain": [
              "[]"
            ]
          },
          "metadata": {
            "tags": []
          },
          "execution_count": 21
        }
      ]
    },
    {
      "cell_type": "code",
      "metadata": {
        "colab": {
          "base_uri": "https://localhost:8080/"
        },
        "id": "U7LFdlAMP87L",
        "outputId": "9cc7c694-aac9-4169-c978-2f40ccf241d9"
      },
      "source": [
        "l = ['a', 'b', 'c']\n",
        "print(l)\n",
        "type(l)"
      ],
      "execution_count": 22,
      "outputs": [
        {
          "output_type": "stream",
          "text": [
            "['a', 'b', 'c']\n"
          ],
          "name": "stdout"
        },
        {
          "output_type": "execute_result",
          "data": {
            "text/plain": [
              "list"
            ]
          },
          "metadata": {
            "tags": []
          },
          "execution_count": 22
        }
      ]
    },
    {
      "cell_type": "code",
      "metadata": {
        "colab": {
          "base_uri": "https://localhost:8080/"
        },
        "id": "PQ2quR1oP9XA",
        "outputId": "e09314a6-59ff-48d1-8e7e-571272dcb3dd"
      },
      "source": [
        "l = ['a',6]\n",
        "l"
      ],
      "execution_count": 23,
      "outputs": [
        {
          "output_type": "execute_result",
          "data": {
            "text/plain": [
              "['a', 6]"
            ]
          },
          "metadata": {
            "tags": []
          },
          "execution_count": 23
        }
      ]
    },
    {
      "cell_type": "code",
      "metadata": {
        "colab": {
          "base_uri": "https://localhost:8080/"
        },
        "id": "ctFei2s4P-rp",
        "outputId": "966004a5-0d9a-4f6c-9045-d63a463ad20f"
      },
      "source": [
        "l2 = list(l)\n",
        "l2\n"
      ],
      "execution_count": 24,
      "outputs": [
        {
          "output_type": "execute_result",
          "data": {
            "text/plain": [
              "['a', 6]"
            ]
          },
          "metadata": {
            "tags": []
          },
          "execution_count": 24
        }
      ]
    },
    {
      "cell_type": "code",
      "metadata": {
        "colab": {
          "base_uri": "https://localhost:8080/"
        },
        "id": "UwYBF_2fQBqF",
        "outputId": "04114207-04ac-40ce-f808-e8971704909d"
      },
      "source": [
        "list('abcdef')"
      ],
      "execution_count": 25,
      "outputs": [
        {
          "output_type": "execute_result",
          "data": {
            "text/plain": [
              "['a', 'b', 'c', 'd', 'e', 'f']"
            ]
          },
          "metadata": {
            "tags": []
          },
          "execution_count": 25
        }
      ]
    },
    {
      "cell_type": "code",
      "metadata": {
        "colab": {
          "base_uri": "https://localhost:8080/"
        },
        "id": "m1x4suGbQDHk",
        "outputId": "a60fc91b-82ad-4745-9b60-3318fe3666d8"
      },
      "source": [
        "l = [1,2]\n",
        "print(l)\n",
        "l.append('b')\n",
        "print(l)\n",
        "l.append('c')\n",
        "print(l)\n",
        "l.insert(1, 56)\n",
        "l"
      ],
      "execution_count": 26,
      "outputs": [
        {
          "output_type": "stream",
          "text": [
            "[1, 2]\n",
            "[1, 2, 'b']\n",
            "[1, 2, 'b', 'c']\n"
          ],
          "name": "stdout"
        },
        {
          "output_type": "execute_result",
          "data": {
            "text/plain": [
              "[1, 56, 2, 'b', 'c']"
            ]
          },
          "metadata": {
            "tags": []
          },
          "execution_count": 26
        }
      ]
    },
    {
      "cell_type": "code",
      "metadata": {
        "colab": {
          "base_uri": "https://localhost:8080/"
        },
        "id": "qVJKHYH6QE6V",
        "outputId": "4243cef4-eb3b-46aa-de1e-40683899a91b"
      },
      "source": [
        "for i in l:\n",
        "    print(i)"
      ],
      "execution_count": 27,
      "outputs": [
        {
          "output_type": "stream",
          "text": [
            "1\n",
            "56\n",
            "2\n",
            "b\n",
            "c\n"
          ],
          "name": "stdout"
        }
      ]
    },
    {
      "cell_type": "code",
      "metadata": {
        "colab": {
          "base_uri": "https://localhost:8080/"
        },
        "id": "fKyZWglLQGQD",
        "outputId": "986e5444-e50a-48eb-e0db-94363d2f4b14"
      },
      "source": [
        "numbers = [6, 5, 3, 8, 4, 2, 5, 4,9]\n",
        "sum = 0\n",
        "for i in numbers:\n",
        "    sum = sum + i\n",
        "print(\"The sum is\", sum)\n",
        "sum\n"
      ],
      "execution_count": 29,
      "outputs": [
        {
          "output_type": "stream",
          "text": [
            "The sum is 46\n"
          ],
          "name": "stdout"
        },
        {
          "output_type": "execute_result",
          "data": {
            "text/plain": [
              "46"
            ]
          },
          "metadata": {
            "tags": []
          },
          "execution_count": 29
        }
      ]
    },
    {
      "cell_type": "code",
      "metadata": {
        "colab": {
          "base_uri": "https://localhost:8080/"
        },
        "id": "mMI63ykNQI6T",
        "outputId": "618d5d5a-f6b7-4bfd-cb5e-92583fa4cc76"
      },
      "source": [
        "digits = [0, 1, 5]\n",
        "\n",
        "\n",
        "for i in digits:\n",
        "    print(i)\n",
        "else:\n",
        "    print(\"No items left.\")"
      ],
      "execution_count": 30,
      "outputs": [
        {
          "output_type": "stream",
          "text": [
            "0\n",
            "1\n",
            "5\n",
            "No items left.\n"
          ],
          "name": "stdout"
        }
      ]
    },
    {
      "cell_type": "code",
      "metadata": {
        "colab": {
          "base_uri": "https://localhost:8080/"
        },
        "id": "LWhv16VdQKgK",
        "outputId": "2d031e29-25d9-40dd-a8c6-a3fc8c2cefa0"
      },
      "source": [
        "n = int(input(\"Enter n: \"))\n",
        "sum = 0\n",
        "i = 1\n",
        "\n",
        "while i <= n:\n",
        "    sum = sum + i\n",
        "    i = i+1\n",
        "print(\"The sum is\", sum)"
      ],
      "execution_count": 32,
      "outputs": [
        {
          "output_type": "stream",
          "text": [
            "Enter n: 5\n",
            "The sum is 15\n"
          ],
          "name": "stdout"
        }
      ]
    },
    {
      "cell_type": "code",
      "metadata": {
        "colab": {
          "base_uri": "https://localhost:8080/"
        },
        "id": "gVG004FBQK_r",
        "outputId": "6248709a-4108-4fec-ac3c-bb1e2b159feb"
      },
      "source": [
        "print(range(10))"
      ],
      "execution_count": 33,
      "outputs": [
        {
          "output_type": "stream",
          "text": [
            "range(0, 10)\n"
          ],
          "name": "stdout"
        }
      ]
    },
    {
      "cell_type": "code",
      "metadata": {
        "colab": {
          "base_uri": "https://localhost:8080/"
        },
        "id": "9HhMxVrbQMMD",
        "outputId": "cdbe955d-0b0b-42a0-c772-625173ae2aee"
      },
      "source": [
        "print(list(range(10)))"
      ],
      "execution_count": 34,
      "outputs": [
        {
          "output_type": "stream",
          "text": [
            "[0, 1, 2, 3, 4, 5, 6, 7, 8, 9]\n"
          ],
          "name": "stdout"
        }
      ]
    },
    {
      "cell_type": "code",
      "metadata": {
        "colab": {
          "base_uri": "https://localhost:8080/"
        },
        "id": "egnorG3lQOW0",
        "outputId": "d913c5aa-a1c0-492d-ec83-5c72221c832f"
      },
      "source": [
        "print(list(range(2, 8)))"
      ],
      "execution_count": 36,
      "outputs": [
        {
          "output_type": "stream",
          "text": [
            "[2, 3, 4, 5, 6, 7]\n"
          ],
          "name": "stdout"
        }
      ]
    },
    {
      "cell_type": "code",
      "metadata": {
        "colab": {
          "base_uri": "https://localhost:8080/"
        },
        "id": "j91gZpF0QP4q",
        "outputId": "1c3af0b5-d07f-4992-d5d4-ddb9115307c4"
      },
      "source": [
        "print(list(range(2, 20, 5)))"
      ],
      "execution_count": 37,
      "outputs": [
        {
          "output_type": "stream",
          "text": [
            "[2, 7, 12, 17]\n"
          ],
          "name": "stdout"
        }
      ]
    },
    {
      "cell_type": "code",
      "metadata": {
        "colab": {
          "base_uri": "https://localhost:8080/"
        },
        "id": "nPTg4fnVQRNZ",
        "outputId": "e8f656ba-99a2-441f-eadd-177d5f427f27"
      },
      "source": [
        "\n",
        "genre = ['pop', 'rock', 'jazz','sapna']\n",
        "\n",
        "for i in range(len(genre)):\n",
        "    print(\"I like\", genre[i])"
      ],
      "execution_count": 38,
      "outputs": [
        {
          "output_type": "stream",
          "text": [
            "I like pop\n",
            "I like rock\n",
            "I like jazz\n",
            "I like sapna\n"
          ],
          "name": "stdout"
        }
      ]
    },
    {
      "cell_type": "code",
      "metadata": {
        "colab": {
          "base_uri": "https://localhost:8080/"
        },
        "id": "K5KG-TPFQRqi",
        "outputId": "ee50f453-2589-4211-bd3e-452573582f4e"
      },
      "source": [
        "for val in \"Anjali\":\n",
        "    if val == \"I\":\n",
        "        break\n",
        "    print(val)\n",
        "\n",
        "print(\"The end\")"
      ],
      "execution_count": 39,
      "outputs": [
        {
          "output_type": "stream",
          "text": [
            "A\n",
            "n\n",
            "j\n",
            "a\n",
            "l\n",
            "i\n",
            "The end\n"
          ],
          "name": "stdout"
        }
      ]
    },
    {
      "cell_type": "code",
      "metadata": {
        "colab": {
          "base_uri": "https://localhost:8080/"
        },
        "id": "orO-WA14QTKP",
        "outputId": "f6a7a0e6-1fb5-4ddb-9ed0-6f054fcc0476"
      },
      "source": [
        "for val in \"HARSHITHA\":\n",
        "    if val == \"I\":\n",
        "        continue\n",
        "    print(val)\n",
        "\n",
        "print(\"The end\")"
      ],
      "execution_count": 40,
      "outputs": [
        {
          "output_type": "stream",
          "text": [
            "H\n",
            "A\n",
            "R\n",
            "S\n",
            "H\n",
            "T\n",
            "H\n",
            "A\n",
            "The end\n"
          ],
          "name": "stdout"
        }
      ]
    },
    {
      "cell_type": "code",
      "metadata": {
        "colab": {
          "base_uri": "https://localhost:8080/"
        },
        "id": "ALO2NgnhQUnU",
        "outputId": "d6af166c-477f-4ec2-c9fb-52569f7d3b37"
      },
      "source": [
        "name = input(\"What is your name?\\n \")\n",
        "type(name)"
      ],
      "execution_count": 42,
      "outputs": [
        {
          "output_type": "stream",
          "text": [
            "What is your name?\n",
            " anjali\n"
          ],
          "name": "stdout"
        },
        {
          "output_type": "execute_result",
          "data": {
            "text/plain": [
              "str"
            ]
          },
          "metadata": {
            "tags": []
          },
          "execution_count": 42
        }
      ]
    },
    {
      "cell_type": "code",
      "metadata": {
        "colab": {
          "base_uri": "https://localhost:8080/"
        },
        "id": "QtHO5JrbQWHc",
        "outputId": "1d61c175-ac9b-4e87-87cd-dbe335403519"
      },
      "source": [
        "age = int(input(\"What is your age? \"))\n",
        "print (\"Your age is: \", age)\n",
        "type(age)"
      ],
      "execution_count": 43,
      "outputs": [
        {
          "output_type": "stream",
          "text": [
            "What is your age? 21\n",
            "Your age is:  21\n"
          ],
          "name": "stdout"
        },
        {
          "output_type": "execute_result",
          "data": {
            "text/plain": [
              "int"
            ]
          },
          "metadata": {
            "tags": []
          },
          "execution_count": 43
        }
      ]
    },
    {
      "cell_type": "code",
      "metadata": {
        "colab": {
          "base_uri": "https://localhost:8080/"
        },
        "id": "1IJrO5osQXtX",
        "outputId": "19cb1a13-9bed-4bef-e4be-3b4a105daf9c"
      },
      "source": [
        "name = input(\"What is your name? \")\n",
        "print (\" It was nice talking you \" + name + \"!\")\n",
        "age = input(\"Enter your age? \")\n",
        "print(\"Hey, you are already \" + age + \" years old, \" + name + \"!\")"
      ],
      "execution_count": 44,
      "outputs": [
        {
          "output_type": "stream",
          "text": [
            "What is your name? anju\n",
            " It was nice talking you anju!\n",
            "Enter your age? 21\n",
            "Hey, you are already 21 years old, anju!\n"
          ],
          "name": "stdout"
        }
      ]
    }
  ]
}